{
 "cells": [
  {
   "cell_type": "code",
   "execution_count": 2,
   "metadata": {},
   "outputs": [],
   "source": [
    "import numpy as np"
   ]
  },
  {
   "cell_type": "code",
   "execution_count": 4,
   "metadata": {},
   "outputs": [],
   "source": [
    "def double_a_number(x):\n",
    "    \"\"\"\n",
    "    The first function.\n",
    "    \n",
    "    Args:\n",
    "        x (float): Some number.\n",
    "    Returns:\n",
    "        float: Returns :math:`y=x*2`\n",
    "    \n",
    "    \"\"\"\n",
    "    return x*2\n",
    "\n",
    "def ten_times_greater(x):\n",
    "    \"\"\"\n",
    "    The second function.\n",
    "    \n",
    "    Args:\n",
    "        x (float): Some number.\n",
    "    Returns:\n",
    "        float: Returns :math:`y=x*10`\n",
    "        \n",
    "    \"\"\"\n",
    "    return x*10\n",
    "\n"
   ]
  },
  {
   "cell_type": "code",
   "execution_count": null,
   "metadata": {},
   "outputs": [],
   "source": []
  }
 ],
 "metadata": {
  "kernelspec": {
   "display_name": "Python 3",
   "language": "python",
   "name": "python3"
  },
  "language_info": {
   "codemirror_mode": {
    "name": "ipython",
    "version": 3
   },
   "file_extension": ".py",
   "mimetype": "text/x-python",
   "name": "python",
   "nbconvert_exporter": "python",
   "pygments_lexer": "ipython3",
   "version": "3.6.4"
  }
 },
 "nbformat": 4,
 "nbformat_minor": 2
}
