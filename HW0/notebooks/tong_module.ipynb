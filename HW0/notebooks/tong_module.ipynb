{
 "cells": [
  {
   "cell_type": "code",
   "execution_count": 1,
   "metadata": {},
   "outputs": [],
   "source": [
    "import numpy as np\n",
    "import math "
   ]
  },
  {
   "cell_type": "code",
   "execution_count": 2,
   "metadata": {},
   "outputs": [],
   "source": [
    "def sine_calculator(x):\n",
    "    \"\"\"\n",
    "    The first function.\n",
    "    \n",
    "    Args:\n",
    "        x (float): Some number.\n",
    "    Returns:\n",
    "        float: Returns :math:`y=sin(x)`\n",
    "    \n",
    "    \"\"\"\n",
    "    return math.sin(x)\n",
    "\n",
    "\n",
    "def ten_times_greater(x):\n",
    "    \"\"\"\n",
    "    The second function.\n",
    "    \n",
    "    Args:\n",
    "        x (float): Some number.\n",
    "    Returns:\n",
    "        float: Returns :math:`y=x*10`\n",
    "        \n",
    "    \"\"\"\n",
    "    return x*10"
   ]
  },
  {
   "cell_type": "code",
   "execution_count": null,
   "metadata": {},
   "outputs": [],
   "source": []
  }
 ],
 "metadata": {
  "kernelspec": {
   "display_name": "Python 3",
   "language": "python",
   "name": "python3"
  },
  "language_info": {
   "codemirror_mode": {
    "name": "ipython",
    "version": 3
   },
   "file_extension": ".py",
   "mimetype": "text/x-python",
   "name": "python",
   "nbconvert_exporter": "python",
   "pygments_lexer": "ipython3",
   "version": "3.6.4"
  }
 },
 "nbformat": 4,
 "nbformat_minor": 2
}
